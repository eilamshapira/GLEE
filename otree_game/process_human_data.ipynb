{
 "cells": [
  {
   "cell_type": "code",
   "execution_count": 1,
   "metadata": {
    "ExecuteTime": {
     "end_time": "2024-09-20T10:26:01.010669Z",
     "start_time": "2024-09-20T10:25:59.608628Z"
    }
   },
   "outputs": [],
   "source": [
    "import pandas as pd\n",
    "import os\n",
    "import hashlib\n",
    "import json"
   ]
  },
  {
   "cell_type": "code",
   "execution_count": 2,
   "metadata": {
    "ExecuteTime": {
     "end_time": "2024-09-20T10:26:01.023249Z",
     "start_time": "2024-09-20T10:26:01.016862Z"
    }
   },
   "outputs": [],
   "source": [
    "MTURK_DATA_PATH = r'mturk_data'\n",
    "PLAYERS_DATA_NAMES = ['mturk_players_part1.csv', 'mturk_players_part2.csv']\n",
    "META_DATA_NAME = 'mturk_meta_data.csv'\n",
    "PRECESSED_DATA_PATH = r'processed_human_data'\n",
    "CONFIG_PLAYED_NAME = 'config_played_df.csv'\n",
    "NON_COMPLETE_CONFIGS_NAME = 'non_complete_configs.csv'"
   ]
  },
  {
   "cell_type": "code",
   "execution_count": 10,
   "metadata": {},
   "outputs": [],
   "source": [
    "quiz_failed = 'FAILED'\n",
    "quiz_failed_start = quiz_failed + '_START'\n",
    "quiz_failed_end = quiz_failed + '_END'\n",
    "quiz_success = 'SUCCESS'"
   ]
  },
  {
   "cell_type": "markdown",
   "metadata": {},
   "source": [
    "## Preprocess"
   ]
  },
  {
   "cell_type": "markdown",
   "metadata": {},
   "source": [
    "### Read the data and initial filtering"
   ]
  },
  {
   "cell_type": "code",
   "execution_count": 3,
   "metadata": {},
   "outputs": [],
   "source": [
    "players_data_paths = [os.path.join(MTURK_DATA_PATH, name) for name in PLAYERS_DATA_NAMES]\n",
    "meta_data_path = os.path.join(MTURK_DATA_PATH, META_DATA_NAME)"
   ]
  },
  {
   "cell_type": "code",
   "execution_count": 4,
   "metadata": {
    "ExecuteTime": {
     "end_time": "2024-09-20T10:26:01.406382Z",
     "start_time": "2024-09-20T10:26:01.023249Z"
    }
   },
   "outputs": [
    {
     "name": "stderr",
     "output_type": "stream",
     "text": [
      "C:\\Users\\irein\\AppData\\Local\\Temp\\ipykernel_9948\\3000554332.py:2: DtypeWarning: Columns (15) have mixed types. Specify dtype option on import or set low_memory=False.\n",
      "  players_df = pd.concat([pd.read_csv(path) for path in players_data_paths])\n"
     ]
    }
   ],
   "source": [
    "if type(players_data_paths) == list:\n",
    "    players_df = pd.concat([pd.read_csv(path) for path in players_data_paths])\n",
    "else:\n",
    "    players_df = pd.read_csv(players_data_paths)\n",
    "meta_df = pd.read_csv(meta_data_path)"
   ]
  },
  {
   "cell_type": "code",
   "execution_count": 5,
   "metadata": {},
   "outputs": [
    {
     "name": "stdout",
     "output_type": "stream",
     "text": [
      "7367\n",
      "7356\n",
      "7356\n"
     ]
    }
   ],
   "source": [
    "# Filter out games that are not from mturk or are demo games\n",
    "print(len(meta_df))\n",
    "meta_df = meta_df[meta_df['is_mturk'] == True]\n",
    "print(len(meta_df))\n",
    "meta_df = meta_df[meta_df['is_demo'] == False]\n",
    "print(len(meta_df))"
   ]
  },
  {
   "cell_type": "code",
   "execution_count": 6,
   "metadata": {
    "ExecuteTime": {
     "end_time": "2024-09-20T10:26:06.781420Z",
     "start_time": "2024-09-20T10:26:06.629989Z"
    }
   },
   "outputs": [
    {
     "name": "stdout",
     "output_type": "stream",
     "text": [
      "184175\n",
      "183900\n"
     ]
    }
   ],
   "source": [
    "# merge the game data with the metadata\n",
    "meta_df.rename(columns={'id': 'participant_id'}, inplace=True)\n",
    "print(players_df.shape[0])\n",
    "raw_df = pd.merge(players_df, meta_df, on=['participant_id', 'session_id'])\n",
    "assert raw_df.shape[0] == pd.merge(players_df, meta_df, on='participant_id').shape[0]\n",
    "print(raw_df.shape[0])"
   ]
  },
  {
   "cell_type": "code",
   "execution_count": 7,
   "metadata": {
    "ExecuteTime": {
     "end_time": "2024-09-20T10:26:08.654859Z",
     "start_time": "2024-09-20T10:26:08.648169Z"
    }
   },
   "outputs": [],
   "source": [
    "assert (raw_df[(raw_df['real_turn'] != raw_df['round_number']) & ~ raw_df['real_turn'].isna()]).shape[0] == 0"
   ]
  },
  {
   "cell_type": "code",
   "execution_count": 8,
   "metadata": {
    "ExecuteTime": {
     "end_time": "2024-09-20T10:26:09.248755Z",
     "start_time": "2024-09-20T10:26:09.187710Z"
    }
   },
   "outputs": [
    {
     "name": "stdout",
     "output_type": "stream",
     "text": [
      "7356\n"
     ]
    }
   ],
   "source": [
    "# print the number of unique session_id and id_in_group combinations\n",
    "print(len((raw_df['session_id'].astype(str) + '_' + raw_df['id_in_group'].astype(str)).value_counts()))"
   ]
  },
  {
   "cell_type": "markdown",
   "metadata": {},
   "source": [
    "We can group by games using the combination of the session_id and the id_in_group or just use participant_id as the unique identifier for each game."
   ]
  },
  {
   "cell_type": "code",
   "execution_count": 9,
   "metadata": {
    "ExecuteTime": {
     "end_time": "2024-09-20T10:26:10.411019Z",
     "start_time": "2024-09-20T10:26:10.395126Z"
    }
   },
   "outputs": [],
   "source": [
    "relevant_columns = ['session_id', 'config_path', 'id_in_group', 'participant_id', 'player_name', 'real_turn', 'who_propose', \n",
    "                    'offer', 'proposer_message', 'proposer_recommendation', 'accepted', 'additional_info',\n",
    "                    'utility', 'time_spent_on_action_page', 'show_instructions', 'quiz_answer', \n",
    "                    'mturk_worker_id', 'mturk_assignment_id']\n",
    "relevant_df = raw_df[relevant_columns]\n",
    "relevant_df = relevant_df.copy()"
   ]
  },
  {
   "cell_type": "markdown",
   "metadata": {},
   "source": [
    "We count the number of games in which the player failed each of the quizzes. We calculate it before the \"isna\" filtering because players we failed in the first attempt will have a NaN values in the \"config_path\" column."
   ]
  },
  {
   "cell_type": "code",
   "execution_count": 11,
   "metadata": {},
   "outputs": [
    {
     "name": "stdout",
     "output_type": "stream",
     "text": [
      "First Failed: 412\n",
      "Last Failed: 835\n"
     ]
    }
   ],
   "source": [
    "# failed statistics\n",
    "relevant_df.loc[:, 'game_id'] = relevant_df['session_id'].astype(str) + '_' + relevant_df['id_in_group'].astype(str)\n",
    "first_failed = len(relevant_df[relevant_df['quiz_answer'] == quiz_failed_start]['game_id'].unique())\n",
    "last_failed = len(relevant_df[relevant_df['quiz_answer'] == quiz_failed_end]['game_id'].unique())\n",
    "print(f'First Failed: {first_failed}')\n",
    "print(f'Last Failed: {last_failed}')"
   ]
  },
  {
   "cell_type": "code",
   "execution_count": 12,
   "metadata": {},
   "outputs": [
    {
     "name": "stdout",
     "output_type": "stream",
     "text": [
      "Last Failed: negotiation: 268\n",
      "Last Failed: persuasion: 68\n",
      "Last Failed: bargaining: 499\n"
     ]
    }
   ],
   "source": [
    "relevant_df.loc[:, 'game_type'] = relevant_df['config_path'].apply(lambda x: x.split('/')[0] if type(x) == str else None)\n",
    "for game_type in relevant_df['game_type'].unique():\n",
    "    if game_type is None:\n",
    "        continue\n",
    "    type_games = relevant_df[relevant_df['game_type'] == game_type]\n",
    "    # first_failed = len(type_games[type_games['quiz_answer'] == quiz_failed_start]['game_id'].unique())\n",
    "    last_failed = len(type_games[type_games['quiz_answer'] == quiz_failed_end]['game_id'].unique())\n",
    "    # print(f'First Failed {game_type}: {first_failed}')\n",
    "    print(f'Last Failed: {game_type}: {last_failed}')"
   ]
  },
  {
   "cell_type": "code",
   "execution_count": 13,
   "metadata": {},
   "outputs": [
    {
     "name": "stdout",
     "output_type": "stream",
     "text": [
      "7356\n"
     ]
    }
   ],
   "source": [
    "print(len(relevant_df['game_id'].unique()))"
   ]
  },
  {
   "cell_type": "code",
   "execution_count": 14,
   "metadata": {
    "ExecuteTime": {
     "end_time": "2024-09-20T10:26:10.982721Z",
     "start_time": "2024-09-20T10:26:10.967426Z"
    }
   },
   "outputs": [
    {
     "name": "stdout",
     "output_type": "stream",
     "text": [
      "Rows Number: 17747\n"
     ]
    }
   ],
   "source": [
    "# if config_path is nan, then the row is not relevant\n",
    "# otree collect rows for every possible game round but not every round includes player real actions (some are empty)\n",
    "nan_rows = relevant_df['config_path'].isna()\n",
    "clean_df = relevant_df[~nan_rows].copy()\n",
    "print(f'Rows Number: {len(clean_df)}')"
   ]
  },
  {
   "cell_type": "code",
   "execution_count": 15,
   "metadata": {
    "ExecuteTime": {
     "end_time": "2024-09-20T10:26:12.022017Z",
     "start_time": "2024-09-20T10:26:12.008071Z"
    }
   },
   "outputs": [
    {
     "name": "stdout",
     "output_type": "stream",
     "text": [
      "4302\n"
     ]
    }
   ],
   "source": [
    "print(len((clean_df['session_id'].astype(str) + '_' + clean_df['id_in_group'].astype(str)).value_counts()))"
   ]
  },
  {
   "cell_type": "code",
   "execution_count": 16,
   "metadata": {
    "ExecuteTime": {
     "end_time": "2024-09-20T10:26:12.815775Z",
     "start_time": "2024-09-20T10:26:12.801400Z"
    }
   },
   "outputs": [],
   "source": [
    "clean_df['game_id'] = clean_df['session_id'].astype(str) + '_' + clean_df['id_in_group'].astype(str)"
   ]
  },
  {
   "cell_type": "code",
   "execution_count": 17,
   "metadata": {},
   "outputs": [
    {
     "data": {
      "text/plain": [
       "game_type\n",
       "persuasion     11346\n",
       "bargaining      3964\n",
       "negotiation     2437\n",
       "Name: count, dtype: int64"
      ]
     },
     "execution_count": 17,
     "metadata": {},
     "output_type": "execute_result"
    }
   ],
   "source": [
    "clean_df['game_type'] = clean_df['config_path'].apply(lambda x: x.split('/')[0])\n",
    "clean_df['game_type'].value_counts()"
   ]
  },
  {
   "cell_type": "markdown",
   "metadata": {},
   "source": [
    "## Advanced filtering"
   ]
  },
  {
   "cell_type": "markdown",
   "metadata": {},
   "source": [
    "We filter players who failed to answer the control questions correctly and filter unfinished games. The filter of the quiz automatically filters games that were not finished. "
   ]
  },
  {
   "cell_type": "code",
   "execution_count": 18,
   "metadata": {
    "ExecuteTime": {
     "end_time": "2024-09-20T10:26:20.070235Z",
     "start_time": "2024-09-20T10:26:20.043935Z"
    }
   },
   "outputs": [
    {
     "name": "stdout",
     "output_type": "stream",
     "text": [
      "Games: 4302\n",
      "Rows Number: 14815\n",
      "Rows Number: 14815\n",
      "Games: 3405\n"
     ]
    }
   ],
   "source": [
    "print(\"Games:\", len(clean_df['game_id'].unique()))\n",
    "good_games = clean_df[clean_df['quiz_answer'] == quiz_success]['game_id']\n",
    "# remove games that failed the quiz\n",
    "clean_df = clean_df[clean_df['game_id'].isin(good_games)]\n",
    "print(f'Rows Number: {len(clean_df)}')\n",
    "clean_df.drop_duplicates(inplace=True)\n",
    "print(f'Rows Number: {len(clean_df)}')\n",
    "print(\"Games:\", len(clean_df['game_id'].unique()))"
   ]
  },
  {
   "cell_type": "code",
   "execution_count": 19,
   "metadata": {
    "ExecuteTime": {
     "end_time": "2024-09-20T10:26:20.932403Z",
     "start_time": "2024-09-20T10:26:20.907530Z"
    }
   },
   "outputs": [],
   "source": [
    "bargaining_config = pd.read_csv(r'human_configs\\bargaining.csv')\n",
    "persuasion_config = pd.read_csv(r'human_configs\\persuasion.csv')\n",
    "negotiation_config = pd.read_csv(r'human_configs\\negotiation.csv')\n",
    "\n",
    "all_configs = {'bargaining' : bargaining_config, 'persuasion' : persuasion_config, 'negotiation' : negotiation_config}"
   ]
  },
  {
   "cell_type": "code",
   "execution_count": 20,
   "metadata": {
    "ExecuteTime": {
     "end_time": "2024-09-20T10:26:27.646952Z",
     "start_time": "2024-09-20T10:26:27.635332Z"
    }
   },
   "outputs": [],
   "source": [
    "configs_options = list(clean_df['config_path'].value_counts().index)"
   ]
  },
  {
   "cell_type": "code",
   "execution_count": 21,
   "metadata": {
    "ExecuteTime": {
     "end_time": "2024-09-20T10:26:28.377491Z",
     "start_time": "2024-09-20T10:26:28.336380Z"
    }
   },
   "outputs": [],
   "source": [
    "for config in configs_options:\n",
    "    game_type = config.split('/')[0]\n",
    "    config_id = int(config.split('/')[1])\n",
    "    config_file = all_configs[game_type]\n",
    "    config_data = config_file[config_file['id'] == config_id]\n",
    "    assert len(config_data) >= 1, f'config {config} not found in {game_type} config file'\n",
    "    assert len(config_data) == 1, f'config {config} found more than once in {game_type} config file'"
   ]
  },
  {
   "cell_type": "code",
   "execution_count": 22,
   "metadata": {
    "ExecuteTime": {
     "end_time": "2024-09-20T10:26:29.004328Z",
     "start_time": "2024-09-20T10:26:28.984636Z"
    }
   },
   "outputs": [
    {
     "name": "stdout",
     "output_type": "stream",
     "text": [
      "Persuasion Games rows: 9700\n",
      "Persuasion Games unique games: 485\n"
     ]
    }
   ],
   "source": [
    "persuasion_games = clean_df[clean_df['game_type'] == 'persuasion']\n",
    "print(f'Persuasion Games rows: {len(persuasion_games)}')\n",
    "print(f'Persuasion Games unique games: {len(persuasion_games[\"game_id\"].unique())}')"
   ]
  },
  {
   "cell_type": "code",
   "execution_count": 23,
   "metadata": {
    "ExecuteTime": {
     "end_time": "2024-09-20T10:26:33.311090Z",
     "start_time": "2024-09-20T10:26:33.296981Z"
    }
   },
   "outputs": [
    {
     "name": "stdout",
     "output_type": "stream",
     "text": [
      "Bargaining Games rows: 3100\n",
      "Bargaining Games unique games: 1696\n"
     ]
    }
   ],
   "source": [
    "bargaining_games = clean_df[clean_df['game_type'] == 'bargaining']\n",
    "print(f'Bargaining Games rows: {len(bargaining_games)}')\n",
    "print(f'Bargaining Games unique games: {len(bargaining_games[\"game_id\"].unique())}')"
   ]
  },
  {
   "cell_type": "code",
   "execution_count": 24,
   "metadata": {
    "ExecuteTime": {
     "end_time": "2024-09-20T10:26:35.779568Z",
     "start_time": "2024-09-20T10:26:35.763930Z"
    }
   },
   "outputs": [
    {
     "name": "stdout",
     "output_type": "stream",
     "text": [
      "Negotiation Games rows: 2015\n",
      "Negotiation Games unique games: 1224\n"
     ]
    }
   ],
   "source": [
    "negotiation_games = clean_df[clean_df['game_type'] == 'negotiation']\n",
    "print(f'Negotiation Games rows: {len(negotiation_games)}')\n",
    "print(f'Negotiation Games unique games: {len(negotiation_games[\"game_id\"].unique())}')"
   ]
  },
  {
   "cell_type": "markdown",
   "metadata": {},
   "source": [
    "## Configuration count"
   ]
  },
  {
   "cell_type": "code",
   "execution_count": 25,
   "metadata": {
    "ExecuteTime": {
     "end_time": "2024-09-20T10:26:48.447226Z",
     "start_time": "2024-09-20T10:26:48.358768Z"
    }
   },
   "outputs": [],
   "source": [
    "# configuration counts\n",
    "configs_played_duplicates = clean_df.groupby('game_id')['config_path'].max()\n",
    "configs_played_duplicates.sort_values()\n",
    "config_played = configs_played_duplicates.value_counts()"
   ]
  },
  {
   "cell_type": "code",
   "execution_count": 26,
   "metadata": {
    "ExecuteTime": {
     "end_time": "2024-09-20T10:26:48.831959Z",
     "start_time": "2024-09-20T10:26:48.806901Z"
    }
   },
   "outputs": [],
   "source": [
    "# config_played to dataframe\n",
    "config_played_df = config_played.reset_index()\n",
    "config_played_df['game_type'] = config_played_df['config_path'].apply(lambda x: x.split('/')[0])\n",
    "config_played_df['config_id'] = config_played_df['config_path'].apply(lambda x: int(x.split('/')[1]))\n",
    "config_played_df = config_played_df.sort_values(by=['game_type', 'config_id'])\n",
    "config_played_df = config_played_df.reset_index(drop=True)\n",
    "config_played_df = config_played_df[['game_type', 'config_id', 'config_path', 'count']]\n",
    "config_played_df.rename(columns={'count': 'games_played'}, inplace=True)"
   ]
  },
  {
   "cell_type": "code",
   "execution_count": 27,
   "metadata": {
    "ExecuteTime": {
     "end_time": "2024-09-20T10:26:49.254660Z",
     "start_time": "2024-09-20T10:26:49.237153Z"
    }
   },
   "outputs": [],
   "source": [
    "def find_games_required(game_type, config_id):\n",
    "    config_file = all_configs[game_type]\n",
    "    config = config_file[config_file['id'] == config_id]\n",
    "    assert len(config) == 1, f'config {config_id} not found in {game_type} config file'\n",
    "    return config['games'].values[0]\n",
    "\n",
    "def find_qualification(game_type, config_id):\n",
    "    config_file = all_configs[game_type]\n",
    "    config = config_file[config_file['id'] == config_id]\n",
    "    assert len(config) == 1, f'config {config_id} not found in {game_type} config file'\n",
    "    return config['qualification'].values[0]"
   ]
  },
  {
   "cell_type": "code",
   "execution_count": 28,
   "metadata": {
    "ExecuteTime": {
     "end_time": "2024-09-20T10:26:50.467471Z",
     "start_time": "2024-09-20T10:26:50.384139Z"
    }
   },
   "outputs": [],
   "source": [
    "config_played_df['games_required'] = \\\n",
    "    config_played_df.apply(lambda x: find_games_required(x['game_type'], x['config_id']), axis=1)\n",
    "config_played_df['game_diff'] = config_played_df['games_played'] - config_played_df['games_required']\n",
    "config_played_df['qualification'] = \\\n",
    "    config_played_df.apply(lambda x: find_qualification(x['game_type'], x['config_id']), axis=1)"
   ]
  },
  {
   "cell_type": "code",
   "execution_count": 29,
   "metadata": {},
   "outputs": [],
   "source": [
    "all_configs_ids = dict()\n",
    "for game_type, config_file in all_configs.items():\n",
    "    for index, row in config_file.iterrows():\n",
    "        temp_id = game_type + '/' + str(row['id'])\n",
    "        all_configs_ids[temp_id] = (row['games'], row['qualification'])"
   ]
  },
  {
   "cell_type": "code",
   "execution_count": 30,
   "metadata": {},
   "outputs": [],
   "source": [
    "config_id_played = config_played_df['config_path'].values\n",
    "non_played_configs = dict()\n",
    "for config_id in all_configs_ids.keys():\n",
    "    if config_id not in config_id_played:\n",
    "        non_played_configs[config_id] = all_configs_ids[config_id]\n",
    "        new_row = {'game_type': config_id.split('/')[0],\n",
    "                   'config_id': int(config_id.split('/')[1]),\n",
    "                   'config_path': config_id,\n",
    "                   'games_played': 0,\n",
    "                   'games_required': all_configs_ids[config_id][0],\n",
    "                   'game_diff': -all_configs_ids[config_id][0],\n",
    "                   'qualification': all_configs_ids[config_id][1]}\n",
    "        config_played_df = pd.concat([config_played_df, pd.DataFrame([new_row])])"
   ]
  },
  {
   "cell_type": "code",
   "execution_count": 31,
   "metadata": {},
   "outputs": [
    {
     "data": {
      "text/plain": [
       "{}"
      ]
     },
     "execution_count": 31,
     "metadata": {},
     "output_type": "execute_result"
    }
   ],
   "source": [
    "non_played_configs"
   ]
  },
  {
   "cell_type": "code",
   "execution_count": 32,
   "metadata": {
    "ExecuteTime": {
     "end_time": "2024-09-20T10:26:52.649082Z",
     "start_time": "2024-09-20T10:26:52.640764Z"
    }
   },
   "outputs": [
    {
     "data": {
      "text/plain": [
       "game_diff\n",
       "0     76\n",
       "1    114\n",
       "2      4\n",
       "3      1\n",
       "Name: count, dtype: int64"
      ]
     },
     "execution_count": 32,
     "metadata": {},
     "output_type": "execute_result"
    }
   ],
   "source": [
    "config_played_df['game_diff'].value_counts().sort_index()"
   ]
  },
  {
   "cell_type": "code",
   "execution_count": 33,
   "metadata": {},
   "outputs": [
    {
     "name": "stdout",
     "output_type": "stream",
     "text": [
      "Completion games needed:  0\n"
     ]
    }
   ],
   "source": [
    "negatives = config_played_df[config_played_df['game_diff'] < 0]\n",
    "print(\"Completion games needed: \", -1 * negatives['game_diff'].sum())"
   ]
  },
  {
   "cell_type": "code",
   "execution_count": 34,
   "metadata": {
    "ExecuteTime": {
     "end_time": "2024-09-20T10:26:51.782101Z",
     "start_time": "2024-09-20T10:26:51.764509Z"
    }
   },
   "outputs": [],
   "source": [
    "config_played_df_path = os.path.join(MTURK_DATA_PATH, CONFIG_PLAYED_NAME)\n",
    "config_played_df.to_csv(config_played_df_path, index=False)"
   ]
  },
  {
   "cell_type": "code",
   "execution_count": 35,
   "metadata": {},
   "outputs": [],
   "source": [
    "non_complete_config = config_played_df[config_played_df['game_diff'] < 0].copy()\n",
    "non_complete_config['amount'] = (-1 * non_complete_config['game_diff']) + 1\n",
    "non_complete_config = non_complete_config[['game_type', 'qualification', 'config_id', 'amount',\n",
    "                                           'games_played', 'games_required', 'game_diff']]\n",
    "non_complete_config.sort_values(by=['game_type', 'qualification', 'config_id'], inplace=True)"
   ]
  },
  {
   "cell_type": "code",
   "execution_count": 36,
   "metadata": {},
   "outputs": [
    {
     "data": {
      "text/html": [
       "<div>\n",
       "<style scoped>\n",
       "    .dataframe tbody tr th:only-of-type {\n",
       "        vertical-align: middle;\n",
       "    }\n",
       "\n",
       "    .dataframe tbody tr th {\n",
       "        vertical-align: top;\n",
       "    }\n",
       "\n",
       "    .dataframe thead th {\n",
       "        text-align: right;\n",
       "    }\n",
       "</style>\n",
       "<table border=\"1\" class=\"dataframe\">\n",
       "  <thead>\n",
       "    <tr style=\"text-align: right;\">\n",
       "      <th></th>\n",
       "      <th>game_type</th>\n",
       "      <th>qualification</th>\n",
       "      <th>config_id</th>\n",
       "      <th>amount</th>\n",
       "      <th>games_played</th>\n",
       "      <th>games_required</th>\n",
       "      <th>game_diff</th>\n",
       "    </tr>\n",
       "  </thead>\n",
       "  <tbody>\n",
       "  </tbody>\n",
       "</table>\n",
       "</div>"
      ],
      "text/plain": [
       "Empty DataFrame\n",
       "Columns: [game_type, qualification, config_id, amount, games_played, games_required, game_diff]\n",
       "Index: []"
      ]
     },
     "execution_count": 36,
     "metadata": {},
     "output_type": "execute_result"
    }
   ],
   "source": [
    "non_complete_config"
   ]
  },
  {
   "cell_type": "code",
   "execution_count": 37,
   "metadata": {},
   "outputs": [],
   "source": [
    "non_complete_config_path = os.path.join(MTURK_DATA_PATH, NON_COMPLETE_CONFIGS_NAME)\n",
    "non_complete_config.to_csv(non_complete_config_path, index=False)"
   ]
  },
  {
   "cell_type": "markdown",
   "metadata": {},
   "source": [
    "## Transform to DataLogger format - Bargaining Game"
   ]
  },
  {
   "cell_type": "code",
   "execution_count": 38,
   "metadata": {},
   "outputs": [],
   "source": [
    "def find_max_offer_by_config_id(config_id):\n",
    "    config_row = bargaining_config[bargaining_config['id'] == config_id]\n",
    "    assert len(config_row) == 1, f'config {config_id} not found in bargaining config file: ' + str(len(config_row))\n",
    "    return config_row['game_args_money_to_divide'].values[0]\n",
    "\n",
    "def find_human_is_player_by_config_id(config_id):\n",
    "    config_row = bargaining_config[bargaining_config['id'] == config_id]\n",
    "    assert len(config_row) == 1, f'config {config_id} not found in bargaining config file: ' + str(len(config_row))\n",
    "    return config_row['human_is_player'].values[0]"
   ]
  },
  {
   "cell_type": "code",
   "execution_count": 39,
   "metadata": {},
   "outputs": [],
   "source": [
    "os.makedirs(f'{PRECESSED_DATA_PATH}/bargaining', exist_ok=True)\n",
    "rel_bargaining = bargaining_games[['config_path', 'offer', 'proposer_message', 'who_propose', 'accepted', \n",
    "                                   'game_id', 'player_name', 'real_turn']]\n",
    "games_ids = rel_bargaining['game_id'].unique()"
   ]
  },
  {
   "cell_type": "code",
   "execution_count": 40,
   "metadata": {},
   "outputs": [],
   "source": [
    "for cur_game_id in games_ids:\n",
    "    cur_game = rel_bargaining[rel_bargaining['game_id'] == cur_game_id].sort_values('real_turn')\n",
    "    config_id = int(cur_game['config_path'].values[0].split('/')[1])\n",
    "    assert cur_game['config_path'].nunique() == 1, f'game {cur_game_id} has more than one config'\n",
    "    row_columns = [f'alice_gain', 'bob_gain', 'message', 'player', 'round', 'decision']\n",
    "    columns_types = {'player': str, 'round': int, 'decision': str, 'message': str, f'alice_gain': float, 'bob_gain': float}\n",
    "    human_is_alice = find_human_is_player_by_config_id(config_id) == 1\n",
    "    tmp_df = None\n",
    "    for i, row in cur_game.iterrows():\n",
    "        who_offer = row['who_propose']\n",
    "        proposer_gain = find_max_offer_by_config_id(config_id) - row['offer']\n",
    "        receiver_gain = row['offer']\n",
    "        message = row['proposer_message']\n",
    "        round_number = int(row['real_turn'])\n",
    "        player_name = 'Alice' if round_number % 2 == 1 else 'Bob'\n",
    "        new_row = pd.DataFrame([[proposer_gain, receiver_gain, message, player_name, round_number, None]], columns=row_columns)\n",
    "        new_row = new_row.astype(columns_types)\n",
    "        if tmp_df is None:\n",
    "            tmp_df = new_row\n",
    "        else:\n",
    "            tmp_df = pd.concat([tmp_df, new_row], ignore_index=True)\n",
    "        \n",
    "        other_player_name = 'Bob' if player_name == 'Alice' else 'Alice'\n",
    "        accepted = 'accept' if row['accepted'] else 'reject'\n",
    "        new_row = pd.DataFrame([[None, None, None, other_player_name, round_number, accepted]], columns=row_columns)\n",
    "        new_row = new_row.astype(columns_types)\n",
    "        tmp_df = pd.concat([tmp_df, new_row], ignore_index=True)\n",
    "        \n",
    "    hash_game_id = cur_game_id.encode('utf-8')\n",
    "    hash_object = hashlib.sha256()\n",
    "    hash_object.update(hash_game_id)\n",
    "    hash_game_id = hash_object.hexdigest()\n",
    "    hash_game_id = (str(hash_game_id)[:16]).upper()\n",
    "    \n",
    "    dir_name = f'{PRECESSED_DATA_PATH}/bargaining/{hash_game_id[0]}/{hash_game_id[1]}/{hash_game_id[2]}'\n",
    "    os.makedirs(rf'{dir_name}/{hash_game_id}', exist_ok=True)\n",
    "    \n",
    "    tmp_df.to_csv(rf'{dir_name}/{hash_game_id}/game.csv', index=False)\n",
    "    source_path = f'configs/bargaining/{config_id}.json'\n",
    "    with open(source_path, 'r') as f:\n",
    "        config_data = json.load(f)\n",
    "        config_data['player_1_args']['model_name'] = config_data['player_1_type']\n",
    "        config_data['player_2_args']['model_name'] = config_data['player_2_type']\n",
    "        with open(rf'{dir_name}/{hash_game_id}/config.json', 'w') as f2:\n",
    "            json.dump(config_data, f2, indent=4)\n",
    "            f2.write('\\n')"
   ]
  },
  {
   "cell_type": "markdown",
   "metadata": {},
   "source": [
    "## Transform to DataLogger format - Persuasion Game"
   ]
  },
  {
   "cell_type": "code",
   "execution_count": 41,
   "metadata": {},
   "outputs": [],
   "source": [
    "def find_value_by_config_id(config_id, is_high_quality):\n",
    "    config_row = persuasion_config[persuasion_config['id'] == config_id]\n",
    "    assert len(config_row) == 1, f'config {config_id} not found in persuasion config file: ' + str(len(config_row))\n",
    "    game_args_c = config_row['game_args_c'].values[0]\n",
    "    game_args_v = config_row['game_args_v'].values[0]\n",
    "    game_args_product_price = config_row['game_args_product_price'].values[0]\n",
    "    if is_high_quality:\n",
    "        return game_args_v * game_args_product_price\n",
    "    else:\n",
    "        return game_args_c * game_args_product_price\n",
    "    \n",
    "def find_seller_message_type_by_config_id(config_id):\n",
    "    config_row = persuasion_config[persuasion_config['id'] == config_id]\n",
    "    assert len(config_row) == 1, f'config {config_id} not found in persuasion config file: ' + str(len(config_row))\n",
    "    return config_row['game_args_seller_message_type'].values[0]"
   ]
  },
  {
   "cell_type": "code",
   "execution_count": 42,
   "metadata": {},
   "outputs": [],
   "source": [
    "os.makedirs(f'{PRECESSED_DATA_PATH}/persuasion', exist_ok=True)\n",
    "rel_persuasion = persuasion_games[['config_path', 'proposer_recommendation', 'proposer_message', 'accepted', \n",
    "                                   'game_id', 'player_name', 'real_turn', 'additional_info']]\n",
    "games_ids = rel_persuasion['game_id'].unique()\n",
    "\n",
    "seller_name = 'Alice'\n",
    "buyer_name = 'Bob'\n",
    "nature_name = 'Nature'"
   ]
  },
  {
   "cell_type": "code",
   "execution_count": 43,
   "metadata": {},
   "outputs": [
    {
     "name": "stderr",
     "output_type": "stream",
     "text": [
      "C:\\Users\\irein\\AppData\\Local\\Temp\\ipykernel_9948\\2359822592.py:27: FutureWarning: The behavior of DataFrame concatenation with empty or all-NA entries is deprecated. In a future version, this will no longer exclude empty or all-NA columns when determining the result dtypes. To retain the old behavior, exclude the relevant entries before the concat operation.\n",
      "  tmp_df = pd.concat([tmp_df, new_row], ignore_index=True)\n",
      "C:\\Users\\irein\\AppData\\Local\\Temp\\ipykernel_9948\\2359822592.py:31: FutureWarning: The behavior of DataFrame concatenation with empty or all-NA entries is deprecated. In a future version, this will no longer exclude empty or all-NA columns when determining the result dtypes. To retain the old behavior, exclude the relevant entries before the concat operation.\n",
      "  tmp_df = pd.concat([tmp_df, new_row], ignore_index=True)\n"
     ]
    }
   ],
   "source": [
    "for cur_game_id in games_ids:\n",
    "    cur_game = rel_persuasion[rel_persuasion['game_id'] == cur_game_id].sort_values('real_turn')\n",
    "    config_id = int(cur_game['config_path'].values[0].split('/')[1])\n",
    "    assert cur_game['config_path'].nunique() == 1, f'game {cur_game_id} has more than one config'\n",
    "    message_type = find_seller_message_type_by_config_id(config_id)\n",
    "    row_columns = [f'round_quality', 'product_worth', 'player', 'round', 'message', 'decision']\n",
    "    tmp_df = None\n",
    "    for i, row in cur_game.iterrows():\n",
    "        quality = 'high-quality' if row['additional_info'] else 'low-quality'\n",
    "        product_worth = find_value_by_config_id(config_id, row['additional_info'])\n",
    "        round_number = int(row['real_turn'])\n",
    "        new_row = pd.DataFrame([[quality, product_worth, nature_name, round_number, None, None]], columns=row_columns)\n",
    "        if tmp_df is None:\n",
    "            tmp_df = new_row\n",
    "        else:\n",
    "            tmp_df = pd.concat([tmp_df, new_row], ignore_index=True)\n",
    "            \n",
    "        if message_type == 'text':\n",
    "            message = row['proposer_message']\n",
    "            assert row['proposer_recommendation'] is not None, f'row {i} has None proposer_recommendation'\n",
    "            new_row = pd.DataFrame([[None, None, seller_name, round_number, message, None]], columns=row_columns)\n",
    "        else:  # binary\n",
    "            assert row['proposer_recommendation'] is not None, f'row {i} has None proposer_recommendation'\n",
    "            decision = 'yes' if row['proposer_recommendation'] else 'no'\n",
    "            new_row = pd.DataFrame([[None, None, seller_name, round_number, None, decision]], columns=row_columns)\n",
    "        \n",
    "        tmp_df = pd.concat([tmp_df, new_row], ignore_index=True)\n",
    "        \n",
    "        decision = 'yes' if row['accepted'] else 'no'\n",
    "        new_row = pd.DataFrame([[None, None, buyer_name, round_number, None, decision]], columns=row_columns)\n",
    "        tmp_df = pd.concat([tmp_df, new_row], ignore_index=True)\n",
    "        \n",
    "    hash_game_id = cur_game_id.encode('utf-8')\n",
    "    hash_object = hashlib.sha256()\n",
    "    hash_object.update(hash_game_id)\n",
    "    hash_game_id = hash_object.hexdigest()\n",
    "    hash_game_id = (str(hash_game_id)[:16]).upper()\n",
    "    dir_name = f'{PRECESSED_DATA_PATH}/persuasion/{hash_game_id[0]}/{hash_game_id[1]}/{hash_game_id[2]}'\n",
    "    os.makedirs(rf'{dir_name}/{hash_game_id}', exist_ok=True)\n",
    "    tmp_df.to_csv(rf'{dir_name}/{hash_game_id}/game.csv', index=False)\n",
    "    source_path = f'configs/persuasion/{config_id}.json'\n",
    "    with open(source_path, 'r') as f:\n",
    "        config_data = json.load(f)\n",
    "        config_data['player_1_args']['model_name'] = config_data['player_1_type']\n",
    "        config_data['player_2_args']['model_name'] = config_data['player_2_type']\n",
    "        with open(rf'{dir_name}/{hash_game_id}/config.json', 'w') as f2:\n",
    "            json.dump(config_data, f2, indent=4)\n",
    "            f2.write('\\n')\n",
    "            "
   ]
  },
  {
   "cell_type": "markdown",
   "metadata": {},
   "source": [
    "## Transform to DataLogger format - Negotiation Game"
   ]
  },
  {
   "cell_type": "code",
   "execution_count": 44,
   "metadata": {},
   "outputs": [],
   "source": [
    "os.makedirs(f'{PRECESSED_DATA_PATH}/negotiation', exist_ok=True)\n",
    "rel_negotiation = negotiation_games[['config_path', 'offer', 'proposer_message', 'accepted', \n",
    "                                   'game_id', 'player_name', 'real_turn']]\n",
    "games_ids = rel_negotiation['game_id'].unique()\n",
    "\n",
    "seller_name = 'Alice'\n",
    "buyer_name = 'Bob'"
   ]
  },
  {
   "cell_type": "code",
   "execution_count": 45,
   "metadata": {},
   "outputs": [
    {
     "name": "stderr",
     "output_type": "stream",
     "text": [
      "C:\\Users\\irein\\AppData\\Local\\Temp\\ipykernel_9948\\1969595530.py:29: FutureWarning: The behavior of DataFrame concatenation with empty or all-NA entries is deprecated. In a future version, this will no longer exclude empty or all-NA columns when determining the result dtypes. To retain the old behavior, exclude the relevant entries before the concat operation.\n",
      "  tmp_df = pd.concat([tmp_df, new_row], ignore_index=True)\n"
     ]
    }
   ],
   "source": [
    "for cur_game_id in games_ids:\n",
    "    cur_game = rel_negotiation[rel_negotiation['game_id'] == cur_game_id].sort_values('real_turn')\n",
    "    config_id = int(cur_game['config_path'].values[0].split('/')[1])\n",
    "    assert cur_game['config_path'].nunique() == 1, f'game {cur_game_id} has more than one config'\n",
    "    \n",
    "    row_columns = ['message', 'product_price', 'player', 'round', 'decision']\n",
    "    tmp_df = None\n",
    "    for i, row in cur_game.iterrows():\n",
    "        product_price = row['offer']\n",
    "        round_number = int(row['real_turn'])\n",
    "        player_name = 'Alice' if round_number % 2 == 1 else 'Bob'\n",
    "        message = row['proposer_message']\n",
    "        new_row = pd.DataFrame([[message, product_price, player_name, round_number, None]], columns=row_columns)\n",
    "        \n",
    "        if tmp_df is None:\n",
    "            tmp_df = new_row\n",
    "        else:\n",
    "            tmp_df = pd.concat([tmp_df, new_row], ignore_index=True)\n",
    "            \n",
    "        other_player_name = 'Bob' if player_name == 'Alice' else 'Alice'\n",
    "        accepted = row['accepted']\n",
    "        if accepted == 2:\n",
    "            decision = 'AcceptOffer'\n",
    "        elif accepted == 1:\n",
    "            decision = 'RejectOffer'\n",
    "        else:  # accepted == 0\n",
    "            decision = 'BuyFromJhon' if other_player_name == 'Bob' else 'SellToJhon'\n",
    "        new_row = pd.DataFrame([[None, None, other_player_name, round_number, decision]], columns=row_columns)\n",
    "        tmp_df = pd.concat([tmp_df, new_row], ignore_index=True)\n",
    "        \n",
    "        \n",
    "    hash_game_id = cur_game_id.encode('utf-8')\n",
    "    hash_object = hashlib.sha256()\n",
    "    hash_object.update(hash_game_id)\n",
    "    hash_game_id = hash_object.hexdigest()\n",
    "    hash_game_id = (str(hash_game_id)[:16]).upper()\n",
    "    dir_name = f'{PRECESSED_DATA_PATH}/negotiation/{hash_game_id[0]}/{hash_game_id[1]}/{hash_game_id[2]}'\n",
    "    os.makedirs(rf'{dir_name}/{hash_game_id}', exist_ok=True)\n",
    "    tmp_df.to_csv(rf'{dir_name}/{hash_game_id}/game.csv', index=False)\n",
    "    source_path = f'configs/negotiation/{config_id}.json'\n",
    "    with open(source_path, 'r') as f:\n",
    "        config_data = json.load(f)\n",
    "        config_data['player_1_args']['model_name'] = config_data['player_1_type']\n",
    "        config_data['player_2_args']['model_name'] = config_data['player_2_type']\n",
    "        with open(rf'{dir_name}/{hash_game_id}/config.json', 'w') as f2:\n",
    "            json.dump(config_data, f2, indent=4)\n",
    "            f2.write('\\n')"
   ]
  }
 ],
 "metadata": {
  "kernelspec": {
   "display_name": "Python 3",
   "language": "python",
   "name": "python3"
  },
  "language_info": {
   "codemirror_mode": {
    "name": "ipython",
    "version": 3
   },
   "file_extension": ".py",
   "mimetype": "text/x-python",
   "name": "python",
   "nbconvert_exporter": "python",
   "pygments_lexer": "ipython3",
   "version": "3.12.0"
  }
 },
 "nbformat": 4,
 "nbformat_minor": 2
}
